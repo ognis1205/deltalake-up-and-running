{
 "cells": [
  {
   "cell_type": "markdown",
   "id": "624c9e3b-b7da-4ab5-a1b4-e95addf03660",
   "metadata": {},
   "source": [
    "### Importing Required Packages"
   ]
  },
  {
   "cell_type": "code",
   "execution_count": 1,
   "id": "39982d52-959f-47f4-96a6-8d61b5d024be",
   "metadata": {},
   "outputs": [],
   "source": [
    "import pyspark\n",
    "from delta import *"
   ]
  },
  {
   "cell_type": "markdown",
   "id": "5dd1f367-fed1-46c8-9ca0-5251a91160d2",
   "metadata": {},
   "source": [
    "### SparkSession Builder with Delta Lake Extensions"
   ]
  },
  {
   "cell_type": "code",
   "execution_count": 2,
   "id": "d36d74ff-2d85-48e1-a7de-406668b23ea0",
   "metadata": {},
   "outputs": [],
   "source": [
    "builder = (\n",
    "    pyspark.sql.SparkSession.builder.appName('MyApp')\n",
    "        .config('spark.sql.extensions', 'io.delta.sql.DeltaSparkSessionExtension')\n",
    "        .config('spark.sql.catalog.spark_catalog', 'org.apache.spark.sql.delta.catalog.DeltaCatalog')\n",
    ")"
   ]
  },
  {
   "cell_type": "markdown",
   "id": "28b94d09-c138-4e52-bce9-ef67fba71681",
   "metadata": {},
   "source": [
    "### Creating a SparkSession Object"
   ]
  },
  {
   "cell_type": "code",
   "execution_count": 3,
   "id": "7d02fd7e-be8c-4482-9a6c-cc0222459610",
   "metadata": {},
   "outputs": [
    {
     "name": "stderr",
     "output_type": "stream",
     "text": [
      "WARNING: Using incubator modules: jdk.incubator.vector\n",
      "Using Spark's default log4j profile: org/apache/spark/log4j2-defaults.properties\n",
      "25/09/09 17:12:40 WARN Utils: Your hostname, nyanco.local, resolves to a loopback address: 127.0.0.1; using 192.168.2.109 instead (on interface en0)\n",
      "25/09/09 17:12:40 WARN Utils: Set SPARK_LOCAL_IP if you need to bind to another address\n",
      ":: loading settings :: url = jar:file:/Users/shingo/GitHub/deltalake-up-and-running/.venv/lib/python3.11/site-packages/pyspark/jars/ivy-2.5.3.jar!/org/apache/ivy/core/settings/ivysettings.xml\n",
      "Ivy Default Cache set to: /Users/shingo/.ivy2.5.2/cache\n",
      "The jars for the packages stored in: /Users/shingo/.ivy2.5.2/jars\n",
      "io.delta#delta-spark_2.13 added as a dependency\n",
      ":: resolving dependencies :: org.apache.spark#spark-submit-parent-0bbeb81c-bc05-4626-abe5-eb46fe4f21eb;1.0\n",
      "\tconfs: [default]\n",
      "\tfound io.delta#delta-spark_2.13;4.0.0 in central\n",
      "\tfound io.delta#delta-storage;4.0.0 in central\n",
      "\tfound org.antlr#antlr4-runtime;4.13.1 in central\n",
      ":: resolution report :: resolve 54ms :: artifacts dl 2ms\n",
      "\t:: modules in use:\n",
      "\tio.delta#delta-spark_2.13;4.0.0 from central in [default]\n",
      "\tio.delta#delta-storage;4.0.0 from central in [default]\n",
      "\torg.antlr#antlr4-runtime;4.13.1 from central in [default]\n",
      "\t---------------------------------------------------------------------\n",
      "\t|                  |            modules            ||   artifacts   |\n",
      "\t|       conf       | number| search|dwnlded|evicted|| number|dwnlded|\n",
      "\t---------------------------------------------------------------------\n",
      "\t|      default     |   3   |   0   |   0   |   0   ||   3   |   0   |\n",
      "\t---------------------------------------------------------------------\n",
      ":: retrieving :: org.apache.spark#spark-submit-parent-0bbeb81c-bc05-4626-abe5-eb46fe4f21eb\n",
      "\tconfs: [default]\n",
      "\t0 artifacts copied, 3 already retrieved (0kB/2ms)\n",
      "25/09/09 17:12:40 WARN NativeCodeLoader: Unable to load native-hadoop library for your platform... using builtin-java classes where applicable\n",
      "Using Spark's default log4j profile: org/apache/spark/log4j2-defaults.properties\n",
      "Setting default log level to \"WARN\".\n",
      "To adjust logging level use sc.setLogLevel(newLevel). For SparkR, use setLogLevel(newLevel).\n"
     ]
    },
    {
     "name": "stdout",
     "output_type": "stream",
     "text": [
      "Hello, Spark version: 4.0.1\n"
     ]
    }
   ],
   "source": [
    "spark = configure_spark_with_delta_pip(builder).getOrCreate()\n",
    "print(f'Hello, Spark version: {spark.version}')"
   ]
  },
  {
   "cell_type": "code",
   "execution_count": 4,
   "id": "4699263e-a258-4938-971a-6edfd319df76",
   "metadata": {},
   "outputs": [],
   "source": [
    "### Hello Delta Lake"
   ]
  },
  {
   "cell_type": "code",
   "execution_count": null,
   "id": "c823aed8-606d-436d-956d-139ca6e8d993",
   "metadata": {},
   "outputs": [],
   "source": [
    "df = spark.range(0, 10)\n",
    "df.write.format('delta').mode('overwrite').save('/book/')"
   ]
  }
 ],
 "metadata": {
  "kernelspec": {
   "display_name": "Python 3 (ipykernel)",
   "language": "python",
   "name": "python3"
  },
  "language_info": {
   "codemirror_mode": {
    "name": "ipython",
    "version": 3
   },
   "file_extension": ".py",
   "mimetype": "text/x-python",
   "name": "python",
   "nbconvert_exporter": "python",
   "pygments_lexer": "ipython3",
   "version": "3.11.11"
  }
 },
 "nbformat": 4,
 "nbformat_minor": 5
}
